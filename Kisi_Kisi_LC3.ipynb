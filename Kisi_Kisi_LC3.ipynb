{
 "cells": [
  {
   "cell_type": "markdown",
   "metadata": {
    "id": "e0E_A5aDbO7r"
   },
   "source": [
    "Perusahaan peminjaman sepeda di San Fransisco memintamu untuk menganalisa durasi perjalanan customer mereka. Untuk memudahkan analisa, lakukan hal-hal berikut ini:\n",
    "\n",
    "## **STATISTIK DESKRIPTIF**\n",
    "\n",
    "1. Lakukan perhitungan central tendency (mean, median, dan modus).\n",
    "2. Lakukan pengecekan dispersi (standar deviasi, variance, dan range).\n",
    "3. Lakukan pengecekan skewness dan kurtosis.\n",
    "3. Analisa apakah ada data outlier berdasarkan sebaran datanya.\n",
    "4. Cari tahu berapa persentase outlier terhadap data keseluruhan.\n",
    "5. Bagaimana perubahan pemusatan data sebelum dan sesudah penghapusan outlier?\n",
    "\n",
    "## **API**\n",
    "\n",
    "Buatlah API untuk:\n",
    "- `Menampilkan` seluruh entry data setelah dilakukan handling outlier.\n",
    "- `Menghapus` entry data, dari data yang telah dihandling outlier.\n",
    "\n",
    "clue:\n",
    "- Load data csv yang sudah diolah dengan pandas, kemudian konversi data ke dictionary `df.to_dict()` atau json `df.to_json()` untuk dapat diolah lebih lanjut dengan API menggunakan FastAPI.\n",
    "- Pembuatan API dilakukan pada script `.py`\n",
    "- Endpoint dan penamaan function pada API dibebaskan.\n",
    "\n",
    "\n",
    "---\n",
    "\n",
    "\n",
    "\n",
    "Data dapat diakses dari BigQuery dengan ketentuan:\n",
    "\n",
    "- Project_id: `bigquery-public-data`\n",
    "- Dataset: `san_francisco_bikeshare`\n",
    "- Table: `bikeshare_trips`\n",
    "- Ambil hanya kolom `duration_sec` saja\n",
    "- Berikan LIMIT pada data yang diambil sebesar 3000 entry data\n",
    "\n",
    "Koneksikan data di atas menggunakan `BigQuery` ke Google Colab dengan code berikut:\n",
    "```py\n",
    "from google.colab import auth\n",
    "from google.cloud import bigquery\n",
    "auth.authenticate_user()\n",
    "print('Authenticated')\n",
    "\n",
    "project_id = \"rock-wonder-317907\" #GUNAKAN GCP PROJECT-ID KALIAN MASING-MASING\n",
    "client = bigquery.Client(project=project_id)\n",
    "```\n",
    "\n",
    "Untuk melakukan Query menggunakan cara ini, kamu dapat menggunakan method `client.query('Masukkan Querynya').to_dataframe()`. Outputnya akan berupa Pandas dataframe, sehingga harus import Pandas.\n",
    "\n",
    "Contoh:\n",
    "\n",
    "```py\n",
    "df = client.query('''\n",
    "SELECT *\n",
    "FROM `bigquery-public-data.thelook_ecommerce.orders`\n",
    "WHERE created_at < \"2022-07-01\"\n",
    "ORDER BY year,month ASC\n",
    "''').to_dataframe()\n",
    "```\n",
    "\n"
   ]
  },
  {
   "cell_type": "code",
   "execution_count": 1,
   "metadata": {
    "colab": {
     "base_uri": "https://localhost:8080/"
    },
    "id": "stLFk77dk8Ek",
    "outputId": "54422771-afeb-4ae9-a635-f6539bf1223c"
   },
   "outputs": [
    {
     "name": "stdout",
     "output_type": "stream",
     "text": [
      "Authenticated\n"
     ]
    }
   ],
   "source": [
    "# Working area\n",
    "from google.colab import auth\n",
    "from google.cloud import bigquery\n",
    "auth.authenticate_user()\n",
    "print('Authenticated')\n",
    "\n",
    "project_id = \"kisi-kisi-lc3-442003\" #GUNAKAN GCP PROJECT-ID KALIAN MASING-MASING\n",
    "client = bigquery.Client(project=project_id)"
   ]
  },
  {
   "cell_type": "code",
   "execution_count": 2,
   "metadata": {
    "colab": {
     "base_uri": "https://localhost:8080/",
     "height": 423
    },
    "id": "Dn0rzV_5PFAH",
    "outputId": "3fb5ce0f-8fdd-4035-928d-162c60b1ede5"
   },
   "outputs": [
    {
     "data": {
      "application/vnd.google.colaboratory.intrinsic+json": {
       "summary": "{\n  \"name\": \"df\",\n  \"rows\": 3000,\n  \"fields\": [\n    {\n      \"column\": \"duration_sec\",\n      \"properties\": {\n        \"dtype\": \"Int64\",\n        \"num_unique_values\": 1189,\n        \"samples\": [\n          487,\n          462,\n          1141\n        ],\n        \"semantic_type\": \"\",\n        \"description\": \"\"\n      }\n    }\n  ]\n}",
       "type": "dataframe",
       "variable_name": "df"
      },
      "text/html": [
       "\n",
       "  <div id=\"df-39cc9b88-03e9-4e91-97bf-9f8f5b827fc5\" class=\"colab-df-container\">\n",
       "    <div>\n",
       "<style scoped>\n",
       "    .dataframe tbody tr th:only-of-type {\n",
       "        vertical-align: middle;\n",
       "    }\n",
       "\n",
       "    .dataframe tbody tr th {\n",
       "        vertical-align: top;\n",
       "    }\n",
       "\n",
       "    .dataframe thead th {\n",
       "        text-align: right;\n",
       "    }\n",
       "</style>\n",
       "<table border=\"1\" class=\"dataframe\">\n",
       "  <thead>\n",
       "    <tr style=\"text-align: right;\">\n",
       "      <th></th>\n",
       "      <th>duration_sec</th>\n",
       "    </tr>\n",
       "  </thead>\n",
       "  <tbody>\n",
       "    <tr>\n",
       "      <th>0</th>\n",
       "      <td>788</td>\n",
       "    </tr>\n",
       "    <tr>\n",
       "      <th>1</th>\n",
       "      <td>1113</td>\n",
       "    </tr>\n",
       "    <tr>\n",
       "      <th>2</th>\n",
       "      <td>965</td>\n",
       "    </tr>\n",
       "    <tr>\n",
       "      <th>3</th>\n",
       "      <td>560</td>\n",
       "    </tr>\n",
       "    <tr>\n",
       "      <th>4</th>\n",
       "      <td>489</td>\n",
       "    </tr>\n",
       "    <tr>\n",
       "      <th>...</th>\n",
       "      <td>...</td>\n",
       "    </tr>\n",
       "    <tr>\n",
       "      <th>2995</th>\n",
       "      <td>1301</td>\n",
       "    </tr>\n",
       "    <tr>\n",
       "      <th>2996</th>\n",
       "      <td>1607</td>\n",
       "    </tr>\n",
       "    <tr>\n",
       "      <th>2997</th>\n",
       "      <td>892</td>\n",
       "    </tr>\n",
       "    <tr>\n",
       "      <th>2998</th>\n",
       "      <td>906</td>\n",
       "    </tr>\n",
       "    <tr>\n",
       "      <th>2999</th>\n",
       "      <td>1789</td>\n",
       "    </tr>\n",
       "  </tbody>\n",
       "</table>\n",
       "<p>3000 rows × 1 columns</p>\n",
       "</div>\n",
       "    <div class=\"colab-df-buttons\">\n",
       "\n",
       "  <div class=\"colab-df-container\">\n",
       "    <button class=\"colab-df-convert\" onclick=\"convertToInteractive('df-39cc9b88-03e9-4e91-97bf-9f8f5b827fc5')\"\n",
       "            title=\"Convert this dataframe to an interactive table.\"\n",
       "            style=\"display:none;\">\n",
       "\n",
       "  <svg xmlns=\"http://www.w3.org/2000/svg\" height=\"24px\" viewBox=\"0 -960 960 960\">\n",
       "    <path d=\"M120-120v-720h720v720H120Zm60-500h600v-160H180v160Zm220 220h160v-160H400v160Zm0 220h160v-160H400v160ZM180-400h160v-160H180v160Zm440 0h160v-160H620v160ZM180-180h160v-160H180v160Zm440 0h160v-160H620v160Z\"/>\n",
       "  </svg>\n",
       "    </button>\n",
       "\n",
       "  <style>\n",
       "    .colab-df-container {\n",
       "      display:flex;\n",
       "      gap: 12px;\n",
       "    }\n",
       "\n",
       "    .colab-df-convert {\n",
       "      background-color: #E8F0FE;\n",
       "      border: none;\n",
       "      border-radius: 50%;\n",
       "      cursor: pointer;\n",
       "      display: none;\n",
       "      fill: #1967D2;\n",
       "      height: 32px;\n",
       "      padding: 0 0 0 0;\n",
       "      width: 32px;\n",
       "    }\n",
       "\n",
       "    .colab-df-convert:hover {\n",
       "      background-color: #E2EBFA;\n",
       "      box-shadow: 0px 1px 2px rgba(60, 64, 67, 0.3), 0px 1px 3px 1px rgba(60, 64, 67, 0.15);\n",
       "      fill: #174EA6;\n",
       "    }\n",
       "\n",
       "    .colab-df-buttons div {\n",
       "      margin-bottom: 4px;\n",
       "    }\n",
       "\n",
       "    [theme=dark] .colab-df-convert {\n",
       "      background-color: #3B4455;\n",
       "      fill: #D2E3FC;\n",
       "    }\n",
       "\n",
       "    [theme=dark] .colab-df-convert:hover {\n",
       "      background-color: #434B5C;\n",
       "      box-shadow: 0px 1px 3px 1px rgba(0, 0, 0, 0.15);\n",
       "      filter: drop-shadow(0px 1px 2px rgba(0, 0, 0, 0.3));\n",
       "      fill: #FFFFFF;\n",
       "    }\n",
       "  </style>\n",
       "\n",
       "    <script>\n",
       "      const buttonEl =\n",
       "        document.querySelector('#df-39cc9b88-03e9-4e91-97bf-9f8f5b827fc5 button.colab-df-convert');\n",
       "      buttonEl.style.display =\n",
       "        google.colab.kernel.accessAllowed ? 'block' : 'none';\n",
       "\n",
       "      async function convertToInteractive(key) {\n",
       "        const element = document.querySelector('#df-39cc9b88-03e9-4e91-97bf-9f8f5b827fc5');\n",
       "        const dataTable =\n",
       "          await google.colab.kernel.invokeFunction('convertToInteractive',\n",
       "                                                    [key], {});\n",
       "        if (!dataTable) return;\n",
       "\n",
       "        const docLinkHtml = 'Like what you see? Visit the ' +\n",
       "          '<a target=\"_blank\" href=https://colab.research.google.com/notebooks/data_table.ipynb>data table notebook</a>'\n",
       "          + ' to learn more about interactive tables.';\n",
       "        element.innerHTML = '';\n",
       "        dataTable['output_type'] = 'display_data';\n",
       "        await google.colab.output.renderOutput(dataTable, element);\n",
       "        const docLink = document.createElement('div');\n",
       "        docLink.innerHTML = docLinkHtml;\n",
       "        element.appendChild(docLink);\n",
       "      }\n",
       "    </script>\n",
       "  </div>\n",
       "\n",
       "\n",
       "<div id=\"df-2140ae25-1743-4fd2-92c2-98d811b7dba2\">\n",
       "  <button class=\"colab-df-quickchart\" onclick=\"quickchart('df-2140ae25-1743-4fd2-92c2-98d811b7dba2')\"\n",
       "            title=\"Suggest charts\"\n",
       "            style=\"display:none;\">\n",
       "\n",
       "<svg xmlns=\"http://www.w3.org/2000/svg\" height=\"24px\"viewBox=\"0 0 24 24\"\n",
       "     width=\"24px\">\n",
       "    <g>\n",
       "        <path d=\"M19 3H5c-1.1 0-2 .9-2 2v14c0 1.1.9 2 2 2h14c1.1 0 2-.9 2-2V5c0-1.1-.9-2-2-2zM9 17H7v-7h2v7zm4 0h-2V7h2v10zm4 0h-2v-4h2v4z\"/>\n",
       "    </g>\n",
       "</svg>\n",
       "  </button>\n",
       "\n",
       "<style>\n",
       "  .colab-df-quickchart {\n",
       "      --bg-color: #E8F0FE;\n",
       "      --fill-color: #1967D2;\n",
       "      --hover-bg-color: #E2EBFA;\n",
       "      --hover-fill-color: #174EA6;\n",
       "      --disabled-fill-color: #AAA;\n",
       "      --disabled-bg-color: #DDD;\n",
       "  }\n",
       "\n",
       "  [theme=dark] .colab-df-quickchart {\n",
       "      --bg-color: #3B4455;\n",
       "      --fill-color: #D2E3FC;\n",
       "      --hover-bg-color: #434B5C;\n",
       "      --hover-fill-color: #FFFFFF;\n",
       "      --disabled-bg-color: #3B4455;\n",
       "      --disabled-fill-color: #666;\n",
       "  }\n",
       "\n",
       "  .colab-df-quickchart {\n",
       "    background-color: var(--bg-color);\n",
       "    border: none;\n",
       "    border-radius: 50%;\n",
       "    cursor: pointer;\n",
       "    display: none;\n",
       "    fill: var(--fill-color);\n",
       "    height: 32px;\n",
       "    padding: 0;\n",
       "    width: 32px;\n",
       "  }\n",
       "\n",
       "  .colab-df-quickchart:hover {\n",
       "    background-color: var(--hover-bg-color);\n",
       "    box-shadow: 0 1px 2px rgba(60, 64, 67, 0.3), 0 1px 3px 1px rgba(60, 64, 67, 0.15);\n",
       "    fill: var(--button-hover-fill-color);\n",
       "  }\n",
       "\n",
       "  .colab-df-quickchart-complete:disabled,\n",
       "  .colab-df-quickchart-complete:disabled:hover {\n",
       "    background-color: var(--disabled-bg-color);\n",
       "    fill: var(--disabled-fill-color);\n",
       "    box-shadow: none;\n",
       "  }\n",
       "\n",
       "  .colab-df-spinner {\n",
       "    border: 2px solid var(--fill-color);\n",
       "    border-color: transparent;\n",
       "    border-bottom-color: var(--fill-color);\n",
       "    animation:\n",
       "      spin 1s steps(1) infinite;\n",
       "  }\n",
       "\n",
       "  @keyframes spin {\n",
       "    0% {\n",
       "      border-color: transparent;\n",
       "      border-bottom-color: var(--fill-color);\n",
       "      border-left-color: var(--fill-color);\n",
       "    }\n",
       "    20% {\n",
       "      border-color: transparent;\n",
       "      border-left-color: var(--fill-color);\n",
       "      border-top-color: var(--fill-color);\n",
       "    }\n",
       "    30% {\n",
       "      border-color: transparent;\n",
       "      border-left-color: var(--fill-color);\n",
       "      border-top-color: var(--fill-color);\n",
       "      border-right-color: var(--fill-color);\n",
       "    }\n",
       "    40% {\n",
       "      border-color: transparent;\n",
       "      border-right-color: var(--fill-color);\n",
       "      border-top-color: var(--fill-color);\n",
       "    }\n",
       "    60% {\n",
       "      border-color: transparent;\n",
       "      border-right-color: var(--fill-color);\n",
       "    }\n",
       "    80% {\n",
       "      border-color: transparent;\n",
       "      border-right-color: var(--fill-color);\n",
       "      border-bottom-color: var(--fill-color);\n",
       "    }\n",
       "    90% {\n",
       "      border-color: transparent;\n",
       "      border-bottom-color: var(--fill-color);\n",
       "    }\n",
       "  }\n",
       "</style>\n",
       "\n",
       "  <script>\n",
       "    async function quickchart(key) {\n",
       "      const quickchartButtonEl =\n",
       "        document.querySelector('#' + key + ' button');\n",
       "      quickchartButtonEl.disabled = true;  // To prevent multiple clicks.\n",
       "      quickchartButtonEl.classList.add('colab-df-spinner');\n",
       "      try {\n",
       "        const charts = await google.colab.kernel.invokeFunction(\n",
       "            'suggestCharts', [key], {});\n",
       "      } catch (error) {\n",
       "        console.error('Error during call to suggestCharts:', error);\n",
       "      }\n",
       "      quickchartButtonEl.classList.remove('colab-df-spinner');\n",
       "      quickchartButtonEl.classList.add('colab-df-quickchart-complete');\n",
       "    }\n",
       "    (() => {\n",
       "      let quickchartButtonEl =\n",
       "        document.querySelector('#df-2140ae25-1743-4fd2-92c2-98d811b7dba2 button');\n",
       "      quickchartButtonEl.style.display =\n",
       "        google.colab.kernel.accessAllowed ? 'block' : 'none';\n",
       "    })();\n",
       "  </script>\n",
       "</div>\n",
       "\n",
       "  <div id=\"id_4584ce4d-7208-4084-a046-39f4be529231\">\n",
       "    <style>\n",
       "      .colab-df-generate {\n",
       "        background-color: #E8F0FE;\n",
       "        border: none;\n",
       "        border-radius: 50%;\n",
       "        cursor: pointer;\n",
       "        display: none;\n",
       "        fill: #1967D2;\n",
       "        height: 32px;\n",
       "        padding: 0 0 0 0;\n",
       "        width: 32px;\n",
       "      }\n",
       "\n",
       "      .colab-df-generate:hover {\n",
       "        background-color: #E2EBFA;\n",
       "        box-shadow: 0px 1px 2px rgba(60, 64, 67, 0.3), 0px 1px 3px 1px rgba(60, 64, 67, 0.15);\n",
       "        fill: #174EA6;\n",
       "      }\n",
       "\n",
       "      [theme=dark] .colab-df-generate {\n",
       "        background-color: #3B4455;\n",
       "        fill: #D2E3FC;\n",
       "      }\n",
       "\n",
       "      [theme=dark] .colab-df-generate:hover {\n",
       "        background-color: #434B5C;\n",
       "        box-shadow: 0px 1px 3px 1px rgba(0, 0, 0, 0.15);\n",
       "        filter: drop-shadow(0px 1px 2px rgba(0, 0, 0, 0.3));\n",
       "        fill: #FFFFFF;\n",
       "      }\n",
       "    </style>\n",
       "    <button class=\"colab-df-generate\" onclick=\"generateWithVariable('df')\"\n",
       "            title=\"Generate code using this dataframe.\"\n",
       "            style=\"display:none;\">\n",
       "\n",
       "  <svg xmlns=\"http://www.w3.org/2000/svg\" height=\"24px\"viewBox=\"0 0 24 24\"\n",
       "       width=\"24px\">\n",
       "    <path d=\"M7,19H8.4L18.45,9,17,7.55,7,17.6ZM5,21V16.75L18.45,3.32a2,2,0,0,1,2.83,0l1.4,1.43a1.91,1.91,0,0,1,.58,1.4,1.91,1.91,0,0,1-.58,1.4L9.25,21ZM18.45,9,17,7.55Zm-12,3A5.31,5.31,0,0,0,4.9,8.1,5.31,5.31,0,0,0,1,6.5,5.31,5.31,0,0,0,4.9,4.9,5.31,5.31,0,0,0,6.5,1,5.31,5.31,0,0,0,8.1,4.9,5.31,5.31,0,0,0,12,6.5,5.46,5.46,0,0,0,6.5,12Z\"/>\n",
       "  </svg>\n",
       "    </button>\n",
       "    <script>\n",
       "      (() => {\n",
       "      const buttonEl =\n",
       "        document.querySelector('#id_4584ce4d-7208-4084-a046-39f4be529231 button.colab-df-generate');\n",
       "      buttonEl.style.display =\n",
       "        google.colab.kernel.accessAllowed ? 'block' : 'none';\n",
       "\n",
       "      buttonEl.onclick = () => {\n",
       "        google.colab.notebook.generateWithVariable('df');\n",
       "      }\n",
       "      })();\n",
       "    </script>\n",
       "  </div>\n",
       "\n",
       "    </div>\n",
       "  </div>\n"
      ],
      "text/plain": [
       "      duration_sec\n",
       "0              788\n",
       "1             1113\n",
       "2              965\n",
       "3              560\n",
       "4              489\n",
       "...            ...\n",
       "2995          1301\n",
       "2996          1607\n",
       "2997           892\n",
       "2998           906\n",
       "2999          1789\n",
       "\n",
       "[3000 rows x 1 columns]"
      ]
     },
     "execution_count": 2,
     "metadata": {},
     "output_type": "execute_result"
    }
   ],
   "source": [
    "df = client.query('''\n",
    "SELECT duration_sec\n",
    "FROM `bigquery-public-data.san_francisco_bikeshare.bikeshare_trips`\n",
    "LIMIT 3000\n",
    "''').to_dataframe()\n",
    "\n",
    "df"
   ]
  },
  {
   "cell_type": "code",
   "execution_count": 3,
   "metadata": {
    "colab": {
     "base_uri": "https://localhost:8080/"
    },
    "id": "QyXPEMeHVh0I",
    "outputId": "751c6229-a0e8-41bb-f1a7-b9b9cfc9abc4"
   },
   "outputs": [
    {
     "data": {
      "text/plain": [
       "830.2213333333333"
      ]
     },
     "execution_count": 3,
     "metadata": {},
     "output_type": "execute_result"
    }
   ],
   "source": [
    "#Rata-rata\n",
    "df['duration_sec'].mean()"
   ]
  },
  {
   "cell_type": "markdown",
   "metadata": {
    "id": "VPpWTkV5Xl0u"
   },
   "source": [
    "Rata-rata duration_sec adalah **30.2213333333333**"
   ]
  },
  {
   "cell_type": "code",
   "execution_count": 4,
   "metadata": {
    "colab": {
     "base_uri": "https://localhost:8080/"
    },
    "id": "dCL-2MjjXlAN",
    "outputId": "6f3a8c5c-9ae7-4f57-8a03-9d036a6baae6"
   },
   "outputs": [
    {
     "data": {
      "text/plain": [
       "501.0"
      ]
     },
     "execution_count": 4,
     "metadata": {},
     "output_type": "execute_result"
    }
   ],
   "source": [
    "#Nilai tengah\n",
    "df['duration_sec'].median()"
   ]
  },
  {
   "cell_type": "markdown",
   "metadata": {
    "id": "KzGYyGYHYT_1"
   },
   "source": [
    "Median duration_sec adalah **501.0**"
   ]
  },
  {
   "cell_type": "code",
   "execution_count": 5,
   "metadata": {
    "colab": {
     "base_uri": "https://localhost:8080/"
    },
    "id": "-0tdKe25YItQ",
    "outputId": "cedc410d-c68a-4794-da43-4884ceace19b"
   },
   "outputs": [
    {
     "data": {
      "text/plain": [
       "250"
      ]
     },
     "execution_count": 5,
     "metadata": {},
     "output_type": "execute_result"
    }
   ],
   "source": [
    "#Modus\n",
    "df['duration_sec'].mode().values[0]"
   ]
  },
  {
   "cell_type": "markdown",
   "metadata": {
    "id": "StHan75lYbiy"
   },
   "source": [
    "Modus duration_sec adalah **275**"
   ]
  },
  {
   "cell_type": "code",
   "execution_count": 6,
   "metadata": {
    "colab": {
     "base_uri": "https://localhost:8080/"
    },
    "id": "hJfSkl8sZgYy",
    "outputId": "a9d15cdb-4a96-4136-af45-d97ba5a84759"
   },
   "outputs": [
    {
     "data": {
      "text/plain": [
       "3052.3106243840034"
      ]
     },
     "execution_count": 6,
     "metadata": {},
     "output_type": "execute_result"
    }
   ],
   "source": [
    "#Standar Deviasi\n",
    "df['duration_sec'].std()"
   ]
  },
  {
   "cell_type": "markdown",
   "metadata": {
    "id": "j2QSBjjpZpvw"
   },
   "source": [
    "Standar Deviasi duration_sec adalah **3052.3106243840034**"
   ]
  },
  {
   "cell_type": "code",
   "execution_count": 7,
   "metadata": {
    "colab": {
     "base_uri": "https://localhost:8080/"
    },
    "id": "UwQ70fWDbQn6",
    "outputId": "58b6f791-ccd8-4aa0-b199-b9120671e639"
   },
   "outputs": [
    {
     "data": {
      "text/plain": [
       "9316600.147727465"
      ]
     },
     "execution_count": 7,
     "metadata": {},
     "output_type": "execute_result"
    }
   ],
   "source": [
    "#Variance\n",
    "df['duration_sec'].var()"
   ]
  },
  {
   "cell_type": "markdown",
   "metadata": {
    "id": "QAOFHSZEdXb1"
   },
   "source": [
    "Variance duration_sec adalah **9316600.147727465**"
   ]
  },
  {
   "cell_type": "markdown",
   "metadata": {
    "id": "TZxOZ1xZdUuk"
   },
   "source": []
  },
  {
   "cell_type": "code",
   "execution_count": 8,
   "metadata": {
    "colab": {
     "base_uri": "https://localhost:8080/"
    },
    "id": "PkBGNdDRdEwR",
    "outputId": "7b17cc27-96f6-4ed1-99a7-9816ea074861"
   },
   "outputs": [
    {
     "data": {
      "text/plain": [
       "67486"
      ]
     },
     "execution_count": 8,
     "metadata": {},
     "output_type": "execute_result"
    }
   ],
   "source": [
    "#Range\n",
    "range = df['duration_sec'].max() - df['duration_sec'].min()\n",
    "range"
   ]
  },
  {
   "cell_type": "markdown",
   "metadata": {
    "id": "8XD0QCBwdq9i"
   },
   "source": [
    "Range duration_sec adalah **67486** yang didapat dari nilai max durasi peminjaman dikurang nilai min durasi peminjaman"
   ]
  },
  {
   "cell_type": "code",
   "execution_count": 9,
   "metadata": {
    "colab": {
     "base_uri": "https://localhost:8080/"
    },
    "id": "ywDEeQ66hASy",
    "outputId": "3897bce5-24dc-431b-b19a-54c32a439168"
   },
   "outputs": [
    {
     "data": {
      "text/plain": [
       "17.775518570892956"
      ]
     },
     "execution_count": 9,
     "metadata": {},
     "output_type": "execute_result"
    }
   ],
   "source": [
    "#skewness\n",
    "df['duration_sec'].skew()"
   ]
  },
  {
   "cell_type": "markdown",
   "metadata": {
    "id": "WpcWJemZhJZb"
   },
   "source": [
    "nilai skewness pada duration_sec adalah **17.775518570892956**, yang berarti distribusi yang sangat miring ke kanan yang mengindikasikan durasi peminjaman yang relatif lama yang dilakukan oleh peminjam. jadi untuk nilai outlier nya berada disisi kanan distribusi"
   ]
  },
  {
   "cell_type": "code",
   "execution_count": 10,
   "metadata": {
    "colab": {
     "base_uri": "https://localhost:8080/"
    },
    "id": "_4wUmJwMh3lv",
    "outputId": "0af8e746-c32a-46b1-e2dd-27f4c12beacf"
   },
   "outputs": [
    {
     "data": {
      "text/plain": [
       "341.27841459621607"
      ]
     },
     "execution_count": 10,
     "metadata": {},
     "output_type": "execute_result"
    }
   ],
   "source": [
    "#kurtosis\n",
    "df['duration_sec'].kurtosis()"
   ]
  },
  {
   "cell_type": "markdown",
   "metadata": {
    "id": "U_w9wgrXjH9G"
   },
   "source": [
    "nilai kurtosis pada duration_sec adalah **341.27841459621607**, ini menunjukkan durasi peminjaman bersifat leptokurtic yang berarti nilai outlier lebih banyak dari distribusi normal"
   ]
  },
  {
   "cell_type": "code",
   "execution_count": 11,
   "metadata": {
    "colab": {
     "base_uri": "https://localhost:8080/"
    },
    "id": "jG80BnAEpJhk",
    "outputId": "b6a0a5ba-35e9-46c7-d80b-23c1d5d016d2"
   },
   "outputs": [
    {
     "name": "stdout",
     "output_type": "stream",
     "text": [
      "Upper: 1514.00\n",
      "Upper: -398.00\n"
     ]
    }
   ],
   "source": [
    "#upper dan lower boundary\n",
    "q1 = df['duration_sec'].quantile(0.25)\n",
    "q3 = df['duration_sec'].quantile(0.75)\n",
    "iqr = q3-q1\n",
    "\n",
    "up = q3 + 1.5*iqr\n",
    "low = q1 - 1.5*iqr\n",
    "\n",
    "print(f'Upper: {up:.2f}')\n",
    "print(f'Upper: {low:.2f}')"
   ]
  },
  {
   "cell_type": "markdown",
   "metadata": {
    "id": "mk2NpeVjJXS_"
   },
   "source": [
    "Angka upper sebesar **1514.00** memiliki arti bahwa angka melebihi outlier\n",
    "\n",
    "Angka upper sebesar **-398.00** memiliki arti bahwa angka melebihi outlier\n"
   ]
  },
  {
   "cell_type": "code",
   "execution_count": 12,
   "metadata": {
    "colab": {
     "base_uri": "https://localhost:8080/"
    },
    "id": "996ZBEgpKuz5",
    "outputId": "ee8f07e7-e3bc-4a5a-b073-cbf3ed158c1d"
   },
   "outputs": [
    {
     "name": "stdout",
     "output_type": "stream",
     "text": [
      "Percentage of outliers: 5.43%\n"
     ]
    }
   ],
   "source": [
    "#presentasi outlier\n",
    "outlier = df['duration_sec'][(df['duration_sec']<low) | (df['duration_sec']>up)]\n",
    "no_outlier = df['duration_sec'][(df['duration_sec']>=low) & (df['duration_sec']<=up)]\n",
    "print(f'Percentage of outliers: {len(outlier)*100/len(df[\"duration_sec\"]):.2f}%')\n"
   ]
  },
  {
   "cell_type": "markdown",
   "metadata": {
    "id": "hce_wV8GLrA5"
   },
   "source": [
    "Percentage of outliers sebesar **5.43%** menunjukkan bahwa dari total durasi peminjaman, sekitar **5.43% di antaranya adalah outlier**, mencerminkan adanya sejumlah kecil peminjam dengan durasi peminjaman yang ekstrem."
   ]
  },
  {
   "cell_type": "code",
   "execution_count": 13,
   "metadata": {
    "colab": {
     "base_uri": "https://localhost:8080/"
    },
    "id": "57BbGdkAL41C",
    "outputId": "a8f2b867-8f10-4d38-ff4a-70943b1bff9c"
   },
   "outputs": [
    {
     "name": "stdout",
     "output_type": "stream",
     "text": [
      "Before Extreme Value Analysis and Removal\n",
      "Average: 830.2213333333333\n",
      "Median : 501.0\n",
      "Mode   : 250\n",
      "------------------------------\n",
      "After Extreme Value Analysis and Removal\n",
      "Average: 550.5174480084596\n",
      "Median : 480.0\n",
      "Mode   : 250\n"
     ]
    }
   ],
   "source": [
    "#before dan after remove outlier\n",
    "\n",
    "print(\"Before Extreme Value Analysis and Removal\")\n",
    "print('Average:',df['duration_sec'].mean())\n",
    "print('Median :',df['duration_sec'].median())\n",
    "print('Mode   :',df['duration_sec'].mode().values[0])\n",
    "\n",
    "print(\"-\"*30)\n",
    "\n",
    "# Nilai central tendency setelah penghapusan outliers\n",
    "print(\"After Extreme Value Analysis and Removal\")\n",
    "print('Average:',no_outlier.mean())\n",
    "print('Median :',no_outlier.median())\n",
    "print('Mode   :',no_outlier.mode().values[0])"
   ]
  },
  {
   "cell_type": "code",
   "execution_count": 14,
   "metadata": {
    "colab": {
     "base_uri": "https://localhost:8080/",
     "height": 458
    },
    "id": "lY-xoPBaNoy9",
    "outputId": "31523b73-17ee-4b92-8086-511335c2997b"
   },
   "outputs": [
    {
     "data": {
      "text/html": [
       "<div>\n",
       "<style scoped>\n",
       "    .dataframe tbody tr th:only-of-type {\n",
       "        vertical-align: middle;\n",
       "    }\n",
       "\n",
       "    .dataframe tbody tr th {\n",
       "        vertical-align: top;\n",
       "    }\n",
       "\n",
       "    .dataframe thead th {\n",
       "        text-align: right;\n",
       "    }\n",
       "</style>\n",
       "<table border=\"1\" class=\"dataframe\">\n",
       "  <thead>\n",
       "    <tr style=\"text-align: right;\">\n",
       "      <th></th>\n",
       "      <th>duration_sec</th>\n",
       "    </tr>\n",
       "  </thead>\n",
       "  <tbody>\n",
       "    <tr>\n",
       "      <th>40</th>\n",
       "      <td>1863</td>\n",
       "    </tr>\n",
       "    <tr>\n",
       "      <th>41</th>\n",
       "      <td>1830</td>\n",
       "    </tr>\n",
       "    <tr>\n",
       "      <th>42</th>\n",
       "      <td>1623</td>\n",
       "    </tr>\n",
       "    <tr>\n",
       "      <th>43</th>\n",
       "      <td>2374</td>\n",
       "    </tr>\n",
       "    <tr>\n",
       "      <th>48</th>\n",
       "      <td>4199</td>\n",
       "    </tr>\n",
       "    <tr>\n",
       "      <th>...</th>\n",
       "      <td>...</td>\n",
       "    </tr>\n",
       "    <tr>\n",
       "      <th>2980</th>\n",
       "      <td>60239</td>\n",
       "    </tr>\n",
       "    <tr>\n",
       "      <th>2983</th>\n",
       "      <td>1937</td>\n",
       "    </tr>\n",
       "    <tr>\n",
       "      <th>2985</th>\n",
       "      <td>2787</td>\n",
       "    </tr>\n",
       "    <tr>\n",
       "      <th>2996</th>\n",
       "      <td>1607</td>\n",
       "    </tr>\n",
       "    <tr>\n",
       "      <th>2999</th>\n",
       "      <td>1789</td>\n",
       "    </tr>\n",
       "  </tbody>\n",
       "</table>\n",
       "<p>163 rows × 1 columns</p>\n",
       "</div><br><label><b>dtype:</b> Int64</label>"
      ],
      "text/plain": [
       "40       1863\n",
       "41       1830\n",
       "42       1623\n",
       "43       2374\n",
       "48       4199\n",
       "        ...  \n",
       "2980    60239\n",
       "2983     1937\n",
       "2985     2787\n",
       "2996     1607\n",
       "2999     1789\n",
       "Name: duration_sec, Length: 163, dtype: Int64"
      ]
     },
     "execution_count": 14,
     "metadata": {},
     "output_type": "execute_result"
    }
   ],
   "source": [
    "#menampilkan nilai outlier\n",
    "outlier"
   ]
  },
  {
   "cell_type": "code",
   "execution_count": 15,
   "metadata": {
    "colab": {
     "base_uri": "https://localhost:8080/",
     "height": 458
    },
    "id": "bkNpN8i0NuA0",
    "outputId": "dd84bf4d-11af-4285-c636-c4a3493052ee"
   },
   "outputs": [
    {
     "data": {
      "text/html": [
       "<div>\n",
       "<style scoped>\n",
       "    .dataframe tbody tr th:only-of-type {\n",
       "        vertical-align: middle;\n",
       "    }\n",
       "\n",
       "    .dataframe tbody tr th {\n",
       "        vertical-align: top;\n",
       "    }\n",
       "\n",
       "    .dataframe thead th {\n",
       "        text-align: right;\n",
       "    }\n",
       "</style>\n",
       "<table border=\"1\" class=\"dataframe\">\n",
       "  <thead>\n",
       "    <tr style=\"text-align: right;\">\n",
       "      <th></th>\n",
       "      <th>duration_sec</th>\n",
       "    </tr>\n",
       "  </thead>\n",
       "  <tbody>\n",
       "    <tr>\n",
       "      <th>0</th>\n",
       "      <td>788</td>\n",
       "    </tr>\n",
       "    <tr>\n",
       "      <th>1</th>\n",
       "      <td>1113</td>\n",
       "    </tr>\n",
       "    <tr>\n",
       "      <th>2</th>\n",
       "      <td>965</td>\n",
       "    </tr>\n",
       "    <tr>\n",
       "      <th>3</th>\n",
       "      <td>560</td>\n",
       "    </tr>\n",
       "    <tr>\n",
       "      <th>4</th>\n",
       "      <td>489</td>\n",
       "    </tr>\n",
       "    <tr>\n",
       "      <th>...</th>\n",
       "      <td>...</td>\n",
       "    </tr>\n",
       "    <tr>\n",
       "      <th>2993</th>\n",
       "      <td>592</td>\n",
       "    </tr>\n",
       "    <tr>\n",
       "      <th>2994</th>\n",
       "      <td>1211</td>\n",
       "    </tr>\n",
       "    <tr>\n",
       "      <th>2995</th>\n",
       "      <td>1301</td>\n",
       "    </tr>\n",
       "    <tr>\n",
       "      <th>2997</th>\n",
       "      <td>892</td>\n",
       "    </tr>\n",
       "    <tr>\n",
       "      <th>2998</th>\n",
       "      <td>906</td>\n",
       "    </tr>\n",
       "  </tbody>\n",
       "</table>\n",
       "<p>2837 rows × 1 columns</p>\n",
       "</div><br><label><b>dtype:</b> Int64</label>"
      ],
      "text/plain": [
       "0        788\n",
       "1       1113\n",
       "2        965\n",
       "3        560\n",
       "4        489\n",
       "        ... \n",
       "2993     592\n",
       "2994    1211\n",
       "2995    1301\n",
       "2997     892\n",
       "2998     906\n",
       "Name: duration_sec, Length: 2837, dtype: Int64"
      ]
     },
     "execution_count": 15,
     "metadata": {},
     "output_type": "execute_result"
    }
   ],
   "source": [
    "#menampilkan nilai no outlier\n",
    "no_outlier"
   ]
  },
  {
   "cell_type": "code",
   "execution_count": 16,
   "metadata": {
    "id": "Wbd-TidKN5Ze"
   },
   "outputs": [],
   "source": [
    "#Export data no outlier ke csv\n",
    "no_outlier.to_csv('no_outlier.csv', index=False)"
   ]
  }
 ],
 "metadata": {
  "colab": {
   "provenance": []
  },
  "kernelspec": {
   "display_name": "Python 3",
   "name": "python3"
  },
  "language_info": {
   "name": "python"
  }
 },
 "nbformat": 4,
 "nbformat_minor": 0
}
